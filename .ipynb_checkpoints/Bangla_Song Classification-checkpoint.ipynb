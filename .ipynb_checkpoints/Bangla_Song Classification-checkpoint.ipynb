{
 "cells": [
  {
   "cell_type": "code",
   "execution_count": 2,
   "metadata": {},
   "outputs": [],
   "source": [
    "import glob\n",
    "import pandas as pd\n",
    "import numpy as np\n",
    "import os"
   ]
  },
  {
   "cell_type": "code",
   "execution_count": 3,
   "metadata": {},
   "outputs": [],
   "source": [
    "from sklearn.naive_bayes import MultinomialNB\n",
    "from sklearn.feature_extraction.text import CountVectorizer\n",
    "from sklearn.model_selection import train_test_split\n",
    "from sklearn.metrics import accuracy_score\n",
    "import time\n",
    "import re \n",
    "\n",
    "from sklearn.pipeline import Pipeline\n",
    "from sklearn.feature_extraction.text import TfidfTransformer\n",
    "from sklearn.metrics import confusion_matrix\n",
    "import joblib"
   ]
  },
  {
   "cell_type": "code",
   "execution_count": 4,
   "metadata": {},
   "outputs": [
    {
     "data": {
      "text/plain": [
       "21"
      ]
     },
     "execution_count": 4,
     "metadata": {},
     "output_type": "execute_result"
    }
   ],
   "source": [
    "all_file = glob.glob(\"./songData/*.xlsx\")\n",
    "len(all_file)\n"
   ]
  },
  {
   "cell_type": "code",
   "execution_count": 5,
   "metadata": {},
   "outputs": [],
   "source": [
    "names = []\n",
    "count = []\n",
    "clusters = []\n",
    "data = []\n",
    "\n",
    "for each in all_file:\n",
    "    temp = pd.read_excel(each)\n",
    "    \n",
    "    \n",
    "    count.append(len(temp))\n",
    "    names.append(each.split('/')[2][:-5])\n",
    "    clusters.append(temp['songType'].iloc[1])\n",
    "    \n",
    "    \n",
    "    data.append(temp)\n",
    "    \n",
    "cluster_ids =clusters"
   ]
  },
  {
   "cell_type": "code",
   "execution_count": 6,
   "metadata": {},
   "outputs": [
    {
     "data": {
      "text/html": [
       "<div>\n",
       "<style scoped>\n",
       "    .dataframe tbody tr th:only-of-type {\n",
       "        vertical-align: middle;\n",
       "    }\n",
       "\n",
       "    .dataframe tbody tr th {\n",
       "        vertical-align: top;\n",
       "    }\n",
       "\n",
       "    .dataframe thead th {\n",
       "        text-align: right;\n",
       "    }\n",
       "</style>\n",
       "<table border=\"1\" class=\"dataframe\">\n",
       "  <thead>\n",
       "    <tr style=\"text-align: right;\">\n",
       "      <th></th>\n",
       "      <th>Unnamed: 0</th>\n",
       "      <th>lyrics</th>\n",
       "      <th>songType</th>\n",
       "    </tr>\n",
       "  </thead>\n",
       "  <tbody>\n",
       "    <tr>\n",
       "      <th>78</th>\n",
       "      <td>418</td>\n",
       "      <td>ও পেদেল মারি-মারি, মারি-মারি, মারি-মারি। ও ফন্...</td>\n",
       "      <td>1</td>\n",
       "    </tr>\n",
       "    <tr>\n",
       "      <th>355</th>\n",
       "      <td>1795</td>\n",
       "      <td>তোমার আমার এই বিরহের অন্তরালে কত আর সেতু বাঁধি...</td>\n",
       "      <td>17</td>\n",
       "    </tr>\n",
       "    <tr>\n",
       "      <th>81</th>\n",
       "      <td>3048</td>\n",
       "      <td>নিচুর কাছে নিচু হতে শিখলি না রে মন॥ তুই সুখী জ...</td>\n",
       "      <td>12</td>\n",
       "    </tr>\n",
       "    <tr>\n",
       "      <th>493</th>\n",
       "      <td>2050</td>\n",
       "      <td>ও আমার দেশের মাটি, তোমার ‘পরে ঠেকাই মাথা। তোমা...</td>\n",
       "      <td>17</td>\n",
       "    </tr>\n",
       "    <tr>\n",
       "      <th>65</th>\n",
       "      <td>2389</td>\n",
       "      <td>ওই দ্যাখো, ছড়ানো স্যান্ডেল ওখানেই সুখ ছিলো একদ...</td>\n",
       "      <td>12</td>\n",
       "    </tr>\n",
       "    <tr>\n",
       "      <th>...</th>\n",
       "      <td>...</td>\n",
       "      <td>...</td>\n",
       "      <td>...</td>\n",
       "    </tr>\n",
       "    <tr>\n",
       "      <th>285</th>\n",
       "      <td>1716</td>\n",
       "      <td>বাকি আমি রাখব না কিছুই তোমার চলার পথে পথে ছেয়ে...</td>\n",
       "      <td>17</td>\n",
       "    </tr>\n",
       "    <tr>\n",
       "      <th>281</th>\n",
       "      <td>912</td>\n",
       "      <td>আমি চাঁদকে বলেছি আলো দিও আমার প্রিয়ার ঘরে সে য...</td>\n",
       "      <td>1</td>\n",
       "    </tr>\n",
       "    <tr>\n",
       "      <th>730</th>\n",
       "      <td>3963</td>\n",
       "      <td>এই মন তোমাকে দিলাম এই প্রেম তোমাকে দিলাম। তুমি...</td>\n",
       "      <td>3</td>\n",
       "    </tr>\n",
       "    <tr>\n",
       "      <th>13</th>\n",
       "      <td>1036</td>\n",
       "      <td>ছেলেটার নাম আকাশ-টাকাশ হবে আর মেয়েটার বর্ষা-টর...</td>\n",
       "      <td>9</td>\n",
       "    </tr>\n",
       "    <tr>\n",
       "      <th>655</th>\n",
       "      <td>2748</td>\n",
       "      <td>তোমার যাবার সময় বুঝি হয়ে যায় আমার দেবার কিছু ব...</td>\n",
       "      <td>1</td>\n",
       "    </tr>\n",
       "  </tbody>\n",
       "</table>\n",
       "<p>4105 rows × 3 columns</p>\n",
       "</div>"
      ],
      "text/plain": [
       "     Unnamed: 0                                             lyrics  songType\n",
       "78          418  ও পেদেল মারি-মারি, মারি-মারি, মারি-মারি। ও ফন্...         1\n",
       "355        1795  তোমার আমার এই বিরহের অন্তরালে কত আর সেতু বাঁধি...        17\n",
       "81         3048  নিচুর কাছে নিচু হতে শিখলি না রে মন॥ তুই সুখী জ...        12\n",
       "493        2050  ও আমার দেশের মাটি, তোমার ‘পরে ঠেকাই মাথা। তোমা...        17\n",
       "65         2389  ওই দ্যাখো, ছড়ানো স্যান্ডেল ওখানেই সুখ ছিলো একদ...        12\n",
       "..          ...                                                ...       ...\n",
       "285        1716  বাকি আমি রাখব না কিছুই তোমার চলার পথে পথে ছেয়ে...        17\n",
       "281         912  আমি চাঁদকে বলেছি আলো দিও আমার প্রিয়ার ঘরে সে য...         1\n",
       "730        3963  এই মন তোমাকে দিলাম এই প্রেম তোমাকে দিলাম। তুমি...         3\n",
       "13         1036  ছেলেটার নাম আকাশ-টাকাশ হবে আর মেয়েটার বর্ষা-টর...         9\n",
       "655        2748  তোমার যাবার সময় বুঝি হয়ে যায় আমার দেবার কিছু ব...         1\n",
       "\n",
       "[4105 rows x 3 columns]"
      ]
     },
     "execution_count": 6,
     "metadata": {},
     "output_type": "execute_result"
    }
   ],
   "source": [
    "data = pd.concat(data)\n",
    "data = data.sample(frac = 1)\n",
    "\n",
    "data"
   ]
  },
  {
   "cell_type": "code",
   "execution_count": 7,
   "metadata": {},
   "outputs": [],
   "source": [
    "stopwords = ['হাই', 'ফ্রিকুয়েন্সি', 'কিন্তু', 'অপ্রয়োজনীয়', 'শব্দ', 'অবশ্য',\n",
    "'অনেক',\n",
    "'অনেকে',\n",
    "'অনেকেই',\n",
    "'অন্তত',\n",
    "'অথবা',\n",
    "'অথচ',\n",
    "'অর্থাত',\n",
    "'অন্য',\n",
    "'আজ',\n",
    "'আছে',\n",
    "'আপনার',\n",
    "'আপনি',\n",
    "'আবার',\n",
    "'আমরা',\n",
    "'আমাকে',\n",
    "'আমাদের',\n",
    "'আমার',\n",
    "'আমি',\n",
    "'আরও',\n",
    "'আর',\n",
    "'আগে',\n",
    "'আগেই',\n",
    "'আই',\n",
    "'অতএব',\n",
    "'আগামী',\n",
    "'অবধি',\n",
    "'অনুযায়ী',\n",
    "'আদ্যভাগে',\n",
    "'এই',\n",
    "'একই',\n",
    "'একে',\n",
    "'একটি',\n",
    "'এখন',\n",
    "'এখনও',\n",
    "'এখানে',\n",
    "'এখানেই',\n",
    "'এটি',\n",
    "'এটা',\n",
    "'এটাই',\n",
    "'এতটাই',\n",
    "'এবং',\n",
    "'একবার',\n",
    "'এবার',\n",
    "'এদের',\n",
    "'এঁদের',\n",
    "'এমন',\n",
    "'এমনকী',\n",
    "'এল',\n",
    "'এর',\n",
    "'এরা',\n",
    "'এঁরা',\n",
    "'এস',\n",
    "'এত',\n",
    "'এতে',\n",
    "'এসে',\n",
    "'একে',\n",
    "'এ',\n",
    "'ঐ',\n",
    " 'ই',\n",
    "'ইহা',\n",
    "'ইত্যাদি',\n",
    "'উনি',\n",
    "'উপর',\n",
    "'উপরে',\n",
    "'উচিত',\n",
    "'ও',\n",
    "'ওই',\n",
    "'ওর',\n",
    "'ওরা',\n",
    "'ওঁর',\n",
    "'ওঁরা',\n",
    "'ওকে',\n",
    "'ওদের',\n",
    "'ওঁদের',\n",
    "'ওখানে',\n",
    "'কত',\n",
    "'কবে',\n",
    "'করতে',\n",
    "'কয়েক',\n",
    "'কয়েকটি',\n",
    "'করবে',\n",
    "'করলেন',\n",
    "'করার',\n",
    "'কাছে',\n",
    "'কাজে',\n",
    "'কারণ',\n",
    "'কিছু',\n",
    "'কিছুই',\n",
    "'কিন্তু',\n",
    "'কিংবা',\n",
    "'কি',\n",
    "'কী',\n",
    "'কেন',\n",
    "'কে',\n",
    "'কোনও',\n",
    "'কোনো',\n",
    "'ক্ষেত্রে',\n",
    "'খুব',\n",
    "'গুলি'\n",
    "'গিয়ে',\n",
    "'গোটা',\n",
    "'চলে',\n",
    "'ছাড়া',\n",
    "'ছাড়াও',\n",
    "'ছিলেন',\n",
    "'ছিল',\n",
    "'জন্য',\n",
    "'জানা',\n",
    "'ঠিক',\n",
    "'তিনি',\n",
    "'তিনঐ',\n",
    "'তিনিও',\n",
    "'তেমন',\n",
    "'তাকে',\n",
    "'তাহা',\n",
    "'তাহাতে',\n",
    "'তাহার',\n",
    "'তাদের',\n",
    "'তিনি',\n",
    "'তা',\n",
    "'তুমি',\n",
    "'তোমার',\n",
    "'তথা',\n",
    "'না',\n",
    "'পারে',\n",
    "'ব্যবহার',\n",
    "'বললেন',\n",
    "'যখন',\n",
    "'যদি',\n",
    "'টি' ]"
   ]
  },
  {
   "cell_type": "code",
   "execution_count": 8,
   "metadata": {},
   "outputs": [],
   "source": [
    "data['lyrics'] = data['lyrics'].apply(lambda x: ' '.join([word for word in x.split() if word not in (stopwords)]))"
   ]
  },
  {
   "cell_type": "code",
   "execution_count": 9,
   "metadata": {},
   "outputs": [],
   "source": [
    "X_train, X_test, y_train, y_test =  train_test_split(data['lyrics'], data['songType'], test_size=0.33, random_state=42 )"
   ]
  },
  {
   "cell_type": "code",
   "execution_count": 10,
   "metadata": {},
   "outputs": [
    {
     "data": {
      "text/plain": [
       "(2750,)"
      ]
     },
     "execution_count": 10,
     "metadata": {},
     "output_type": "execute_result"
    }
   ],
   "source": [
    "X_train.shape"
   ]
  },
  {
   "cell_type": "code",
   "execution_count": 11,
   "metadata": {},
   "outputs": [
    {
     "name": "stderr",
     "output_type": "stream",
     "text": [
      "/home/pulock46/anaconda3/lib/python3.8/site-packages/sklearn/feature_extraction/text.py:383: UserWarning: Your stop_words may be inconsistent with your preprocessing. Tokenizing the stop words generated tokens [''] not in stop_words.\n",
      "  warnings.warn('Your stop_words may be inconsistent with '\n"
     ]
    },
    {
     "name": "stdout",
     "output_type": "stream",
     "text": [
      "Cross Accuracy: 0.50 (+/- 0.06)\n"
     ]
    }
   ],
   "source": [
    "from sklearn.model_selection import ShuffleSplit\n",
    "from sklearn.model_selection import cross_val_score\n",
    "from sklearn import metrics\n",
    "\n",
    "total_data_count = len(data)\n",
    "per_class_counts = []\n",
    "unique_classes = np.unique(data['songType'].values)\n",
    "class_count_mean = np.mean(count)\n",
    "\n",
    "###########################3\n",
    "############### classifier setup ################\n",
    "\n",
    "from sklearn.linear_model import SGDClassifier\n",
    "text_clf_svm = Pipeline([\n",
    "    \n",
    "    ('vect', CountVectorizer(stop_words=stopwords,\n",
    "                            analyzer=\"word\", \n",
    "                            lowercase=False,\n",
    "                            token_pattern=\"[\\S]*\",\n",
    "                            tokenizer=None,\n",
    "                            ngram_range=(1, 3),\n",
    "                            preprocessor=None)),                 \n",
    "    ('tfidf', TfidfTransformer()),\n",
    "    ('clf-svm', SGDClassifier(loss = 'modified_huber', penalty='l2', max_iter=100)),\n",
    "                                                                        \n",
    "])\n",
    "classifier = text_clf_svm.fit(list(X_train), list(y_train))\n",
    "\n",
    "\n",
    "cv = ShuffleSplit(n_splits=5, test_size=0.3, random_state=0)\n",
    "score = cross_val_score(text_clf_svm, list(X_train), list(y_train), cv=cv)\n",
    "\n",
    "print(\"Cross Accuracy: %0.2f (+/- %0.2f)\" % (score.mean(), score.std() * 2))\n",
    "\n",
    "\n",
    "predicted = classifier.predict(X_test)"
   ]
  },
  {
   "cell_type": "code",
   "execution_count": 12,
   "metadata": {},
   "outputs": [
    {
     "name": "stdout",
     "output_type": "stream",
     "text": [
      "Cross Accuracy: 0.50 (+/- 0.06)\n",
      "              precision    recall  f1-score   support\n",
      "\n",
      "           1       0.46      0.60      0.52       347\n",
      "           2       0.00      0.00      0.00         3\n",
      "           3       0.43      0.44      0.43       229\n",
      "           4       1.00      0.33      0.50         3\n",
      "           5       0.50      0.06      0.11        17\n",
      "           6       0.67      0.35      0.46        34\n",
      "           7       0.78      0.53      0.63        76\n",
      "           8       0.00      0.00      0.00         7\n",
      "           9       0.00      0.00      0.00        20\n",
      "          10       0.50      0.06      0.11        17\n",
      "          11       0.33      0.29      0.31        17\n",
      "          12       0.19      0.07      0.10        42\n",
      "          13       0.50      0.52      0.51       246\n",
      "          14       0.80      0.25      0.38        16\n",
      "          16       0.00      0.00      0.00         2\n",
      "          17       0.82      0.90      0.86       260\n",
      "          18       0.50      0.17      0.25         6\n",
      "          19       1.00      0.60      0.75        10\n",
      "          20       0.00      0.00      0.00         3\n",
      "\n",
      "    accuracy                           0.55      1355\n",
      "   macro avg       0.45      0.27      0.31      1355\n",
      "weighted avg       0.54      0.55      0.53      1355\n",
      "\n"
     ]
    },
    {
     "name": "stderr",
     "output_type": "stream",
     "text": [
      "/home/pulock46/anaconda3/lib/python3.8/site-packages/sklearn/metrics/_classification.py:1221: UndefinedMetricWarning: Precision and F-score are ill-defined and being set to 0.0 in labels with no predicted samples. Use `zero_division` parameter to control this behavior.\n",
      "  _warn_prf(average, modifier, msg_start, len(result))\n"
     ]
    }
   ],
   "source": [
    "print(\"Cross Accuracy: %0.2f (+/- %0.2f)\" % (score.mean(), score.std() * 2))\n",
    "print(metrics.classification_report(y_test, predicted))"
   ]
  },
  {
   "cell_type": "code",
   "execution_count": 13,
   "metadata": {},
   "outputs": [],
   "source": [
    "import pandas as pd\n",
    "confusion_matrix = list(metrics.confusion_matrix(y_test, predicted))"
   ]
  },
  {
   "cell_type": "code",
   "execution_count": 25,
   "metadata": {},
   "outputs": [
    {
     "name": "stdout",
     "output_type": "stream",
     "text": [
      "19 19\n",
      "21 10\n",
      "(1355,) (1355,)\n"
     ]
    }
   ],
   "source": [
    "print(len(confusion_matrix), len(confusion_matrix[0]))\n",
    "print(len(names), len(names[0]))\n",
    "\n",
    "print(y_test.shape, predicted.shape)"
   ]
  },
  {
   "cell_type": "code",
   "execution_count": 14,
   "metadata": {},
   "outputs": [
    {
     "ename": "ValueError",
     "evalue": "21 columns passed, passed data had 19 columns",
     "output_type": "error",
     "traceback": [
      "\u001b[0;31m---------------------------------------------------------------------------\u001b[0m",
      "\u001b[0;31mAssertionError\u001b[0m                            Traceback (most recent call last)",
      "\u001b[0;32m~/.local/lib/python3.8/site-packages/pandas/core/internals/construction.py\u001b[0m in \u001b[0;36m_list_to_arrays\u001b[0;34m(data, columns, coerce_float, dtype)\u001b[0m\n\u001b[1;32m    563\u001b[0m     \u001b[0;32mtry\u001b[0m\u001b[0;34m:\u001b[0m\u001b[0;34m\u001b[0m\u001b[0;34m\u001b[0m\u001b[0m\n\u001b[0;32m--> 564\u001b[0;31m         \u001b[0mcolumns\u001b[0m \u001b[0;34m=\u001b[0m \u001b[0m_validate_or_indexify_columns\u001b[0m\u001b[0;34m(\u001b[0m\u001b[0mcontent\u001b[0m\u001b[0;34m,\u001b[0m \u001b[0mcolumns\u001b[0m\u001b[0;34m)\u001b[0m\u001b[0;34m\u001b[0m\u001b[0;34m\u001b[0m\u001b[0m\n\u001b[0m\u001b[1;32m    565\u001b[0m         \u001b[0mresult\u001b[0m \u001b[0;34m=\u001b[0m \u001b[0m_convert_object_array\u001b[0m\u001b[0;34m(\u001b[0m\u001b[0mcontent\u001b[0m\u001b[0;34m,\u001b[0m \u001b[0mdtype\u001b[0m\u001b[0;34m=\u001b[0m\u001b[0mdtype\u001b[0m\u001b[0;34m,\u001b[0m \u001b[0mcoerce_float\u001b[0m\u001b[0;34m=\u001b[0m\u001b[0mcoerce_float\u001b[0m\u001b[0;34m)\u001b[0m\u001b[0;34m\u001b[0m\u001b[0;34m\u001b[0m\u001b[0m\n",
      "\u001b[0;32m~/.local/lib/python3.8/site-packages/pandas/core/internals/construction.py\u001b[0m in \u001b[0;36m_validate_or_indexify_columns\u001b[0;34m(content, columns)\u001b[0m\n\u001b[1;32m    687\u001b[0m             \u001b[0;31m# caller's responsibility to check for this...\u001b[0m\u001b[0;34m\u001b[0m\u001b[0;34m\u001b[0m\u001b[0;34m\u001b[0m\u001b[0m\n\u001b[0;32m--> 688\u001b[0;31m             raise AssertionError(\n\u001b[0m\u001b[1;32m    689\u001b[0m                 \u001b[0;34mf\"{len(columns)} columns passed, passed data had \"\u001b[0m\u001b[0;34m\u001b[0m\u001b[0;34m\u001b[0m\u001b[0m\n",
      "\u001b[0;31mAssertionError\u001b[0m: 21 columns passed, passed data had 19 columns",
      "\nThe above exception was the direct cause of the following exception:\n",
      "\u001b[0;31mValueError\u001b[0m                                Traceback (most recent call last)",
      "\u001b[0;32m<ipython-input-14-1f8f28e73003>\u001b[0m in \u001b[0;36m<module>\u001b[0;34m\u001b[0m\n\u001b[1;32m      3\u001b[0m \u001b[0;32mimport\u001b[0m \u001b[0mmatplotlib\u001b[0m\u001b[0;34m.\u001b[0m\u001b[0mpyplot\u001b[0m \u001b[0;32mas\u001b[0m \u001b[0mplt\u001b[0m\u001b[0;34m\u001b[0m\u001b[0;34m\u001b[0m\u001b[0m\n\u001b[1;32m      4\u001b[0m \u001b[0marray\u001b[0m \u001b[0;34m=\u001b[0m \u001b[0mconfusion_matrix\u001b[0m\u001b[0;34m\u001b[0m\u001b[0;34m\u001b[0m\u001b[0m\n\u001b[0;32m----> 5\u001b[0;31m df_cm = pd.DataFrame(array, index = [i for i in names],\n\u001b[0m\u001b[1;32m      6\u001b[0m               columns = [i for i in names])\n\u001b[1;32m      7\u001b[0m \u001b[0mdf_norm_col\u001b[0m\u001b[0;34m=\u001b[0m\u001b[0;34m(\u001b[0m\u001b[0mdf_cm\u001b[0m\u001b[0;34m-\u001b[0m\u001b[0mdf_cm\u001b[0m\u001b[0;34m.\u001b[0m\u001b[0mmean\u001b[0m\u001b[0;34m(\u001b[0m\u001b[0;34m)\u001b[0m\u001b[0;34m)\u001b[0m\u001b[0;34m/\u001b[0m\u001b[0mdf_cm\u001b[0m\u001b[0;34m.\u001b[0m\u001b[0mstd\u001b[0m\u001b[0;34m(\u001b[0m\u001b[0;34m)\u001b[0m\u001b[0;34m\u001b[0m\u001b[0;34m\u001b[0m\u001b[0m\n",
      "\u001b[0;32m~/.local/lib/python3.8/site-packages/pandas/core/frame.py\u001b[0m in \u001b[0;36m__init__\u001b[0;34m(self, data, index, columns, dtype, copy)\u001b[0m\n\u001b[1;32m    507\u001b[0m                     \u001b[0;32mif\u001b[0m \u001b[0mis_named_tuple\u001b[0m\u001b[0;34m(\u001b[0m\u001b[0mdata\u001b[0m\u001b[0;34m[\u001b[0m\u001b[0;36m0\u001b[0m\u001b[0;34m]\u001b[0m\u001b[0;34m)\u001b[0m \u001b[0;32mand\u001b[0m \u001b[0mcolumns\u001b[0m \u001b[0;32mis\u001b[0m \u001b[0;32mNone\u001b[0m\u001b[0;34m:\u001b[0m\u001b[0;34m\u001b[0m\u001b[0;34m\u001b[0m\u001b[0m\n\u001b[1;32m    508\u001b[0m                         \u001b[0mcolumns\u001b[0m \u001b[0;34m=\u001b[0m \u001b[0mdata\u001b[0m\u001b[0;34m[\u001b[0m\u001b[0;36m0\u001b[0m\u001b[0;34m]\u001b[0m\u001b[0;34m.\u001b[0m\u001b[0m_fields\u001b[0m\u001b[0;34m\u001b[0m\u001b[0;34m\u001b[0m\u001b[0m\n\u001b[0;32m--> 509\u001b[0;31m                     \u001b[0marrays\u001b[0m\u001b[0;34m,\u001b[0m \u001b[0mcolumns\u001b[0m \u001b[0;34m=\u001b[0m \u001b[0mto_arrays\u001b[0m\u001b[0;34m(\u001b[0m\u001b[0mdata\u001b[0m\u001b[0;34m,\u001b[0m \u001b[0mcolumns\u001b[0m\u001b[0;34m,\u001b[0m \u001b[0mdtype\u001b[0m\u001b[0;34m=\u001b[0m\u001b[0mdtype\u001b[0m\u001b[0;34m)\u001b[0m\u001b[0;34m\u001b[0m\u001b[0;34m\u001b[0m\u001b[0m\n\u001b[0m\u001b[1;32m    510\u001b[0m                     \u001b[0mcolumns\u001b[0m \u001b[0;34m=\u001b[0m \u001b[0mensure_index\u001b[0m\u001b[0;34m(\u001b[0m\u001b[0mcolumns\u001b[0m\u001b[0;34m)\u001b[0m\u001b[0;34m\u001b[0m\u001b[0;34m\u001b[0m\u001b[0m\n\u001b[1;32m    511\u001b[0m \u001b[0;34m\u001b[0m\u001b[0m\n",
      "\u001b[0;32m~/.local/lib/python3.8/site-packages/pandas/core/internals/construction.py\u001b[0m in \u001b[0;36mto_arrays\u001b[0;34m(data, columns, coerce_float, dtype)\u001b[0m\n\u001b[1;32m    546\u001b[0m         \u001b[0;31m# last ditch effort\u001b[0m\u001b[0;34m\u001b[0m\u001b[0;34m\u001b[0m\u001b[0;34m\u001b[0m\u001b[0m\n\u001b[1;32m    547\u001b[0m         \u001b[0mdata\u001b[0m \u001b[0;34m=\u001b[0m \u001b[0;34m[\u001b[0m\u001b[0mtuple\u001b[0m\u001b[0;34m(\u001b[0m\u001b[0mx\u001b[0m\u001b[0;34m)\u001b[0m \u001b[0;32mfor\u001b[0m \u001b[0mx\u001b[0m \u001b[0;32min\u001b[0m \u001b[0mdata\u001b[0m\u001b[0;34m]\u001b[0m\u001b[0;34m\u001b[0m\u001b[0;34m\u001b[0m\u001b[0m\n\u001b[0;32m--> 548\u001b[0;31m         \u001b[0;32mreturn\u001b[0m \u001b[0m_list_to_arrays\u001b[0m\u001b[0;34m(\u001b[0m\u001b[0mdata\u001b[0m\u001b[0;34m,\u001b[0m \u001b[0mcolumns\u001b[0m\u001b[0;34m,\u001b[0m \u001b[0mcoerce_float\u001b[0m\u001b[0;34m=\u001b[0m\u001b[0mcoerce_float\u001b[0m\u001b[0;34m,\u001b[0m \u001b[0mdtype\u001b[0m\u001b[0;34m=\u001b[0m\u001b[0mdtype\u001b[0m\u001b[0;34m)\u001b[0m\u001b[0;34m\u001b[0m\u001b[0;34m\u001b[0m\u001b[0m\n\u001b[0m\u001b[1;32m    549\u001b[0m \u001b[0;34m\u001b[0m\u001b[0m\n\u001b[1;32m    550\u001b[0m \u001b[0;34m\u001b[0m\u001b[0m\n",
      "\u001b[0;32m~/.local/lib/python3.8/site-packages/pandas/core/internals/construction.py\u001b[0m in \u001b[0;36m_list_to_arrays\u001b[0;34m(data, columns, coerce_float, dtype)\u001b[0m\n\u001b[1;32m    565\u001b[0m         \u001b[0mresult\u001b[0m \u001b[0;34m=\u001b[0m \u001b[0m_convert_object_array\u001b[0m\u001b[0;34m(\u001b[0m\u001b[0mcontent\u001b[0m\u001b[0;34m,\u001b[0m \u001b[0mdtype\u001b[0m\u001b[0;34m=\u001b[0m\u001b[0mdtype\u001b[0m\u001b[0;34m,\u001b[0m \u001b[0mcoerce_float\u001b[0m\u001b[0;34m=\u001b[0m\u001b[0mcoerce_float\u001b[0m\u001b[0;34m)\u001b[0m\u001b[0;34m\u001b[0m\u001b[0;34m\u001b[0m\u001b[0m\n\u001b[1;32m    566\u001b[0m     \u001b[0;32mexcept\u001b[0m \u001b[0mAssertionError\u001b[0m \u001b[0;32mas\u001b[0m \u001b[0me\u001b[0m\u001b[0;34m:\u001b[0m\u001b[0;34m\u001b[0m\u001b[0;34m\u001b[0m\u001b[0m\n\u001b[0;32m--> 567\u001b[0;31m         \u001b[0;32mraise\u001b[0m \u001b[0mValueError\u001b[0m\u001b[0;34m(\u001b[0m\u001b[0me\u001b[0m\u001b[0;34m)\u001b[0m \u001b[0;32mfrom\u001b[0m \u001b[0me\u001b[0m\u001b[0;34m\u001b[0m\u001b[0;34m\u001b[0m\u001b[0m\n\u001b[0m\u001b[1;32m    568\u001b[0m     \u001b[0;32mreturn\u001b[0m \u001b[0mresult\u001b[0m\u001b[0;34m,\u001b[0m \u001b[0mcolumns\u001b[0m\u001b[0;34m\u001b[0m\u001b[0;34m\u001b[0m\u001b[0m\n\u001b[1;32m    569\u001b[0m \u001b[0;34m\u001b[0m\u001b[0m\n",
      "\u001b[0;31mValueError\u001b[0m: 21 columns passed, passed data had 19 columns"
     ]
    }
   ],
   "source": [
    "import seaborn as sn\n",
    "import pandas as pd\n",
    "import matplotlib.pyplot as plt\n",
    "array = confusion_matrix\n",
    "# df_cm = pd.DataFrame(array, index = [i for i in names],\n",
    "#               columns = [i for i in names])\n",
    "df_cm = pd.DataFrame(array)\n",
    "df_norm_col=(df_cm-df_cm.mean())/df_cm.std()\n",
    "#df_norm_col=df_cm-df_cm.mean()\n",
    "plt.figure(figsize = (10,7))\n",
    "sn.heatmap(df_norm_col, annot=True,cmap='viridis')"
   ]
  },
  {
   "cell_type": "code",
   "execution_count": null,
   "metadata": {},
   "outputs": [],
   "source": []
  }
 ],
 "metadata": {
  "kernelspec": {
   "display_name": "Python 3",
   "language": "python",
   "name": "python3"
  },
  "language_info": {
   "codemirror_mode": {
    "name": "ipython",
    "version": 3
   },
   "file_extension": ".py",
   "mimetype": "text/x-python",
   "name": "python",
   "nbconvert_exporter": "python",
   "pygments_lexer": "ipython3",
   "version": "3.8.5"
  }
 },
 "nbformat": 4,
 "nbformat_minor": 4
}
