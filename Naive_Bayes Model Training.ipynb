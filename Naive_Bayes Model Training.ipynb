{
 "cells": [
  {
   "cell_type": "code",
   "execution_count": 1,
   "metadata": {},
   "outputs": [],
   "source": [
    "import glob\n",
    "import pandas as pd\n",
    "import numpy as np\n",
    "import os"
   ]
  },
  {
   "cell_type": "code",
   "execution_count": 2,
   "metadata": {},
   "outputs": [],
   "source": [
    "\n",
    "\n",
    "from sklearn.naive_bayes import MultinomialNB\n",
    "from sklearn.feature_extraction.text import CountVectorizer\n",
    "from sklearn.model_selection import train_test_split\n",
    "from sklearn.metrics import accuracy_score\n",
    "import time\n",
    "import re \n",
    "\n",
    "from sklearn.pipeline import Pipeline\n",
    "from sklearn.feature_extraction.text import TfidfTransformer\n",
    "from sklearn.metrics import confusion_matrix\n",
    "import joblib"
   ]
  },
  {
   "cell_type": "code",
   "execution_count": 3,
   "metadata": {},
   "outputs": [
    {
     "data": {
      "text/plain": [
       "21"
      ]
     },
     "execution_count": 3,
     "metadata": {},
     "output_type": "execute_result"
    }
   ],
   "source": [
    "# all_file= glob.glob(\"../Data/*.xlsx\")\n",
    "all_file = glob.glob(\"./songData/*.xlsx\")\n",
    "len(all_file)"
   ]
  },
  {
   "cell_type": "markdown",
   "metadata": {},
   "source": [
    "# Preprocessing steps"
   ]
  },
  {
   "cell_type": "code",
   "execution_count": 4,
   "metadata": {},
   "outputs": [],
   "source": [
    "names = []\n",
    "count = []\n",
    "clusters = []\n",
    "data = []\n",
    "\n",
    "for each in all_file:\n",
    "    temp = pd.read_excel(each)\n",
    "    \n",
    "    \n",
    "    count.append(len(temp))\n",
    "    \n",
    "    names.append(each.split('/')[2][:-5])\n",
    "    clusters.append(temp['songType'].iloc[1])\n",
    "#     names.append(each.split('/')[1][:-5])\n",
    "#     clusters.append(temp['idx'].iloc[4])\n",
    "    \n",
    "    \n",
    "    data.append(temp)\n",
    "    \n",
    "cluster_ids =clusters"
   ]
  },
  {
   "cell_type": "code",
   "execution_count": 5,
   "metadata": {},
   "outputs": [
    {
     "data": {
      "text/html": [
       "<div>\n",
       "<style scoped>\n",
       "    .dataframe tbody tr th:only-of-type {\n",
       "        vertical-align: middle;\n",
       "    }\n",
       "\n",
       "    .dataframe tbody tr th {\n",
       "        vertical-align: top;\n",
       "    }\n",
       "\n",
       "    .dataframe thead th {\n",
       "        text-align: right;\n",
       "    }\n",
       "</style>\n",
       "<table border=\"1\" class=\"dataframe\">\n",
       "  <thead>\n",
       "    <tr style=\"text-align: right;\">\n",
       "      <th></th>\n",
       "      <th>Unnamed: 0</th>\n",
       "      <th>lyrics</th>\n",
       "      <th>songType</th>\n",
       "    </tr>\n",
       "  </thead>\n",
       "  <tbody>\n",
       "    <tr>\n",
       "      <th>564</th>\n",
       "      <td>3362</td>\n",
       "      <td>(চলে যাওয়া মানে প্রস্থান নয়, বিচ্ছেদ নয় চলে যা...</td>\n",
       "      <td>13</td>\n",
       "    </tr>\n",
       "    <tr>\n",
       "      <th>436</th>\n",
       "      <td>2566</td>\n",
       "      <td>রাজকুমারী দু’একটা কথা বলি বারান্দাটা ছেড়ে যেও...</td>\n",
       "      <td>13</td>\n",
       "    </tr>\n",
       "    <tr>\n",
       "      <th>84</th>\n",
       "      <td>427</td>\n",
       "      <td>ও  মাধবী গো, থাকো মোর অন্তরে টল টল মল দুটি চোখ...</td>\n",
       "      <td>1</td>\n",
       "    </tr>\n",
       "    <tr>\n",
       "      <th>292</th>\n",
       "      <td>1559</td>\n",
       "      <td>লাল দোপাট্টা  অঙ্গে আমার থাকতে চায় না রে। বন্ধ...</td>\n",
       "      <td>3</td>\n",
       "    </tr>\n",
       "    <tr>\n",
       "      <th>888</th>\n",
       "      <td>3687</td>\n",
       "      <td>তোমার ঐ মনটাকে একটা ধূলোমাখা পথ করে দাও আমি পথ...</td>\n",
       "      <td>1</td>\n",
       "    </tr>\n",
       "    <tr>\n",
       "      <th>...</th>\n",
       "      <td>...</td>\n",
       "      <td>...</td>\n",
       "      <td>...</td>\n",
       "    </tr>\n",
       "    <tr>\n",
       "      <th>474</th>\n",
       "      <td>2777</td>\n",
       "      <td>আমি ছন্দহারা এক নদীর মত ছুটে যাই আমার চলার শেষ...</td>\n",
       "      <td>3</td>\n",
       "    </tr>\n",
       "    <tr>\n",
       "      <th>542</th>\n",
       "      <td>2998</td>\n",
       "      <td>ঐ দুর পাহাড়ের ধারে দিগন্তেরই কাছে নিঃসঙ্গ বসে ...</td>\n",
       "      <td>13</td>\n",
       "    </tr>\n",
       "    <tr>\n",
       "      <th>168</th>\n",
       "      <td>1549</td>\n",
       "      <td>ভালোবেসে যদি সুখ নাহি তবে কেন- তবে কেন মিছে ভা...</td>\n",
       "      <td>17</td>\n",
       "    </tr>\n",
       "    <tr>\n",
       "      <th>990</th>\n",
       "      <td>4029</td>\n",
       "      <td>আগে যদি জানতাম তবে মন ফিরে চাইতাম এই জ্বালা আর...</td>\n",
       "      <td>1</td>\n",
       "    </tr>\n",
       "    <tr>\n",
       "      <th>374</th>\n",
       "      <td>1814</td>\n",
       "      <td>বল দাও মোরে বল দাও, প্রাণে দাও মোর শকতি সকল হৃ...</td>\n",
       "      <td>17</td>\n",
       "    </tr>\n",
       "  </tbody>\n",
       "</table>\n",
       "<p>4105 rows × 3 columns</p>\n",
       "</div>"
      ],
      "text/plain": [
       "     Unnamed: 0                                             lyrics  songType\n",
       "564        3362  (চলে যাওয়া মানে প্রস্থান নয়, বিচ্ছেদ নয় চলে যা...        13\n",
       "436        2566  রাজকুমারী দু’একটা কথা বলি বারান্দাটা ছেড়ে যেও...        13\n",
       "84          427  ও  মাধবী গো, থাকো মোর অন্তরে টল টল মল দুটি চোখ...         1\n",
       "292        1559  লাল দোপাট্টা  অঙ্গে আমার থাকতে চায় না রে। বন্ধ...         3\n",
       "888        3687  তোমার ঐ মনটাকে একটা ধূলোমাখা পথ করে দাও আমি পথ...         1\n",
       "..          ...                                                ...       ...\n",
       "474        2777  আমি ছন্দহারা এক নদীর মত ছুটে যাই আমার চলার শেষ...         3\n",
       "542        2998  ঐ দুর পাহাড়ের ধারে দিগন্তেরই কাছে নিঃসঙ্গ বসে ...        13\n",
       "168        1549  ভালোবেসে যদি সুখ নাহি তবে কেন- তবে কেন মিছে ভা...        17\n",
       "990        4029  আগে যদি জানতাম তবে মন ফিরে চাইতাম এই জ্বালা আর...         1\n",
       "374        1814  বল দাও মোরে বল দাও, প্রাণে দাও মোর শকতি সকল হৃ...        17\n",
       "\n",
       "[4105 rows x 3 columns]"
      ]
     },
     "execution_count": 5,
     "metadata": {},
     "output_type": "execute_result"
    }
   ],
   "source": [
    "data = pd.concat(data)\n",
    "data = data.sample(frac = 1)\n",
    "\n",
    "data"
   ]
  },
  {
   "cell_type": "markdown",
   "metadata": {},
   "source": [
    "### Removing  Stopwords  from body if exists"
   ]
  },
  {
   "cell_type": "code",
   "execution_count": 6,
   "metadata": {},
   "outputs": [],
   "source": [
    "# stopwords = [ 'হাই', 'ফ্রিকুয়েন্সি', 'কিন্তু', 'অপ্রয়োজনীয়', 'শব্দ' ]\n",
    "stopwords = ['হাই', 'ফ্রিকুয়েন্সি', 'কিন্তু', 'অপ্রয়োজনীয়', 'শব্দ', 'অবশ্য',\n",
    "'অনেক',\n",
    "'অনেকে',\n",
    "'অনেকেই',\n",
    "'অন্তত',\n",
    "'অথবা',\n",
    "'অথচ',\n",
    "'অর্থাত',\n",
    "'অন্য',\n",
    "'আজ',\n",
    "'আছে',\n",
    "'আপনার',\n",
    "'আপনি',\n",
    "'আবার',\n",
    "'আমরা',\n",
    "'আমাকে',\n",
    "'আমাদের',\n",
    "'আমার',\n",
    "'আমি',\n",
    "'আরও',\n",
    "'আর',\n",
    "'আগে',\n",
    "'আগেই',\n",
    "'আই',\n",
    "'অতএব',\n",
    "'আগামী',\n",
    "'অবধি',\n",
    "'অনুযায়ী',\n",
    "'আদ্যভাগে',\n",
    "'এই',\n",
    "'একই',\n",
    "'একে',\n",
    "'একটি',\n",
    "'এখন',\n",
    "'এখনও',\n",
    "'এখানে',\n",
    "'এখানেই',\n",
    "'এটি',\n",
    "'এটা',\n",
    "'এটাই',\n",
    "'এতটাই',\n",
    "'এবং',\n",
    "'একবার',\n",
    "'এবার',\n",
    "'এদের',\n",
    "'এঁদের',\n",
    "'এমন',\n",
    "'এমনকী',\n",
    "'এল',\n",
    "'এর',\n",
    "'এরা',\n",
    "'এঁরা',\n",
    "'এস',\n",
    "'এত',\n",
    "'এতে',\n",
    "'এসে',\n",
    "'একে',\n",
    "'এ',\n",
    "'ঐ',\n",
    " 'ই',\n",
    "'ইহা',\n",
    "'ইত্যাদি',\n",
    "'উনি',\n",
    "'উপর',\n",
    "'উপরে',\n",
    "'উচিত',\n",
    "'ও',\n",
    "'ওই',\n",
    "'ওর',\n",
    "'ওরা',\n",
    "'ওঁর',\n",
    "'ওঁরা',\n",
    "'ওকে',\n",
    "'ওদের',\n",
    "'ওঁদের',\n",
    "'ওখানে',\n",
    "'কত',\n",
    "'কবে',\n",
    "'করতে',\n",
    "'কয়েক',\n",
    "'কয়েকটি',\n",
    "'করবে',\n",
    "'করলেন',\n",
    "'করার',\n",
    "'কাছে',\n",
    "'কাজে',\n",
    "'কারণ',\n",
    "'কিছু',\n",
    "'কিছুই',\n",
    "'কিন্তু',\n",
    "'কিংবা',\n",
    "'কি',\n",
    "'কী',\n",
    "'কেন',\n",
    "'কে',\n",
    "'কোনও',\n",
    "'কোনো',\n",
    "'ক্ষেত্রে',\n",
    "'খুব',\n",
    "'গুলি'\n",
    "'গিয়ে',\n",
    "'গোটা',\n",
    "'চলে',\n",
    "'ছাড়া',\n",
    "'ছাড়াও',\n",
    "'ছিলেন',\n",
    "'ছিল',\n",
    "'জন্য',\n",
    "'জানা',\n",
    "'ঠিক',\n",
    "'তিনি',\n",
    "'তিনঐ',\n",
    "'তিনিও',\n",
    "'তেমন',\n",
    "'তাকে',\n",
    "'তাহা',\n",
    "'তাহাতে',\n",
    "'তাহার',\n",
    "'তাদের',\n",
    "'তিনি',\n",
    "'তা',\n",
    "'তুমি',\n",
    "'তোমার',\n",
    "'তথা',\n",
    "'না',\n",
    "'পারে',\n",
    "'ব্যবহার',\n",
    "'বললেন',\n",
    "'যখন',\n",
    "'যদি',\n",
    "'টি' ]\n"
   ]
  },
  {
   "cell_type": "code",
   "execution_count": 7,
   "metadata": {},
   "outputs": [],
   "source": [
    "data['lyrics'] = data['lyrics'].apply(lambda x: ' '.join([word for word in x.split() if word not in (stopwords)]))\n",
    "# data['content'] = data['content'].apply(lambda x: ' '.join([word for word in x.split() if word not in (stopwords)]))"
   ]
  },
  {
   "cell_type": "code",
   "execution_count": 8,
   "metadata": {},
   "outputs": [],
   "source": [
    "X_train, X_test, y_train, y_test =  train_test_split(data['lyrics'], data['songType'], test_size=0.33, random_state=42 )\n",
    "# X_train, X_test, y_train, y_test =  train_test_split(data['content'], data['idx'], test_size=0.33, random_state=42 )"
   ]
  },
  {
   "cell_type": "code",
   "execution_count": 9,
   "metadata": {},
   "outputs": [
    {
     "data": {
      "text/plain": [
       "(2750,)"
      ]
     },
     "execution_count": 9,
     "metadata": {},
     "output_type": "execute_result"
    }
   ],
   "source": [
    "X_train.shape"
   ]
  },
  {
   "cell_type": "code",
   "execution_count": 10,
   "metadata": {},
   "outputs": [
    {
     "data": {
      "text/plain": [
       "(1355,)"
      ]
     },
     "execution_count": 10,
     "metadata": {},
     "output_type": "execute_result"
    }
   ],
   "source": [
    "X_test.shape"
   ]
  },
  {
   "cell_type": "markdown",
   "metadata": {},
   "source": [
    "### Classification report"
   ]
  },
  {
   "cell_type": "code",
   "execution_count": 12,
   "metadata": {},
   "outputs": [
    {
     "name": "stderr",
     "output_type": "stream",
     "text": [
      "/home/pulock46/anaconda3/lib/python3.8/site-packages/sklearn/feature_extraction/text.py:383: UserWarning: Your stop_words may be inconsistent with your preprocessing. Tokenizing the stop words generated tokens [''] not in stop_words.\n",
      "  warnings.warn('Your stop_words may be inconsistent with '\n",
      "/home/pulock46/anaconda3/lib/python3.8/site-packages/sklearn/feature_extraction/text.py:383: UserWarning: Your stop_words may be inconsistent with your preprocessing. Tokenizing the stop words generated tokens [''] not in stop_words.\n",
      "  warnings.warn('Your stop_words may be inconsistent with '\n",
      "/home/pulock46/anaconda3/lib/python3.8/site-packages/sklearn/feature_extraction/text.py:383: UserWarning: Your stop_words may be inconsistent with your preprocessing. Tokenizing the stop words generated tokens [''] not in stop_words.\n",
      "  warnings.warn('Your stop_words may be inconsistent with '\n",
      "/home/pulock46/anaconda3/lib/python3.8/site-packages/sklearn/feature_extraction/text.py:383: UserWarning: Your stop_words may be inconsistent with your preprocessing. Tokenizing the stop words generated tokens [''] not in stop_words.\n",
      "  warnings.warn('Your stop_words may be inconsistent with '\n",
      "/home/pulock46/anaconda3/lib/python3.8/site-packages/sklearn/feature_extraction/text.py:383: UserWarning: Your stop_words may be inconsistent with your preprocessing. Tokenizing the stop words generated tokens [''] not in stop_words.\n",
      "  warnings.warn('Your stop_words may be inconsistent with '\n",
      "/home/pulock46/anaconda3/lib/python3.8/site-packages/sklearn/feature_extraction/text.py:383: UserWarning: Your stop_words may be inconsistent with your preprocessing. Tokenizing the stop words generated tokens [''] not in stop_words.\n",
      "  warnings.warn('Your stop_words may be inconsistent with '\n"
     ]
    },
    {
     "name": "stdout",
     "output_type": "stream",
     "text": [
      "Cross Accuracy: 0.31 (+/- 0.05)\n"
     ]
    }
   ],
   "source": [
    "from sklearn.model_selection import ShuffleSplit\n",
    "from sklearn.model_selection import cross_val_score\n",
    "from sklearn import metrics\n",
    "\n",
    "total_data_count = len(data)\n",
    "per_class_counts = []\n",
    "# unique_classes = np.unique(data['idx'].values)\n",
    "unique_classes = np.unique(data['songType'].values)\n",
    "\n",
    "class_count_mean = np.mean(count)\n",
    "\n",
    "###########################3\n",
    "############### classifier setup ################\n",
    "\n",
    "from sklearn.linear_model import SGDClassifier\n",
    "text_clf_svm = Pipeline([\n",
    "    \n",
    "    ('vect', CountVectorizer(stop_words=stopwords,\n",
    "                            analyzer=\"word\", \n",
    "                            lowercase=False,\n",
    "                            token_pattern=\"[\\S]*\",\n",
    "                            tokenizer=None,\n",
    "                            ngram_range=(1, 3),\n",
    "                            preprocessor=None)),                 \n",
    "    ('tfidf', TfidfTransformer()),\n",
    "    ('clf-svm', MultinomialNB()),\n",
    "                                                                        \n",
    "])\n",
    "classifier = text_clf_svm.fit(list(X_train), list(y_train))\n",
    "\n",
    "\n",
    "cv = ShuffleSplit(n_splits=5, test_size=0.3, random_state=0)\n",
    "score = cross_val_score(text_clf_svm, list(X_train), list(y_train), cv=cv)\n",
    "\n",
    "print(\"Cross Accuracy: %0.2f (+/- %0.2f)\" % (score.mean(), score.std() * 2))\n",
    "\n",
    "\n",
    "predicted = classifier.predict(X_test)"
   ]
  },
  {
   "cell_type": "code",
   "execution_count": 35,
   "metadata": {},
   "outputs": [],
   "source": [
    "# "
   ]
  },
  {
   "cell_type": "code",
   "execution_count": 36,
   "metadata": {},
   "outputs": [],
   "source": [
    "# joblib.dump(classifier, '../Model/sample_model.pickle')"
   ]
  },
  {
   "cell_type": "code",
   "execution_count": 13,
   "metadata": {},
   "outputs": [
    {
     "name": "stdout",
     "output_type": "stream",
     "text": [
      "Cross Accuracy: 0.31 (+/- 0.05)\n",
      "              precision    recall  f1-score   support\n",
      "\n",
      "           0       0.00      0.00      0.00         2\n",
      "           1       0.29      1.00      0.45       336\n",
      "           2       0.00      0.00      0.00         3\n",
      "           3       0.55      0.02      0.05       248\n",
      "           4       0.00      0.00      0.00         2\n",
      "           5       0.00      0.00      0.00        27\n",
      "           6       0.00      0.00      0.00        31\n",
      "           7       0.00      0.00      0.00        61\n",
      "           8       0.00      0.00      0.00         5\n",
      "           9       0.00      0.00      0.00        16\n",
      "          10       0.00      0.00      0.00        15\n",
      "          11       0.00      0.00      0.00        24\n",
      "          12       0.00      0.00      0.00        33\n",
      "          13       0.67      0.01      0.02       226\n",
      "          14       0.00      0.00      0.00        26\n",
      "          16       0.00      0.00      0.00         2\n",
      "          17       0.90      0.57      0.70       269\n",
      "          18       0.00      0.00      0.00         4\n",
      "          19       0.00      0.00      0.00        22\n",
      "          20       0.00      0.00      0.00         3\n",
      "\n",
      "    accuracy                           0.37      1355\n",
      "   macro avg       0.12      0.08      0.06      1355\n",
      "weighted avg       0.46      0.37      0.26      1355\n",
      "\n"
     ]
    },
    {
     "name": "stderr",
     "output_type": "stream",
     "text": [
      "/home/pulock46/anaconda3/lib/python3.8/site-packages/sklearn/metrics/_classification.py:1221: UndefinedMetricWarning: Precision and F-score are ill-defined and being set to 0.0 in labels with no predicted samples. Use `zero_division` parameter to control this behavior.\n",
      "  _warn_prf(average, modifier, msg_start, len(result))\n"
     ]
    }
   ],
   "source": [
    "print(\"Cross Accuracy: %0.2f (+/- %0.2f)\" % (score.mean(), score.std() * 2))\n",
    "print(metrics.classification_report(y_test, predicted))"
   ]
  },
  {
   "cell_type": "code",
   "execution_count": 14,
   "metadata": {},
   "outputs": [
    {
     "name": "stdout",
     "output_type": "stream",
     "text": [
      "20 20\n",
      "21 10\n"
     ]
    }
   ],
   "source": [
    "import pandas as pd\n",
    "confusion_matrix = list(metrics.confusion_matrix(y_test, predicted))\n",
    "\n",
    "print(len(confusion_matrix), len(confusion_matrix[0]))\n",
    "print(len(names), len(names[0]))"
   ]
  },
  {
   "cell_type": "code",
   "execution_count": 15,
   "metadata": {},
   "outputs": [
    {
     "data": {
      "text/plain": [
       "<AxesSubplot:>"
      ]
     },
     "execution_count": 15,
     "metadata": {},
     "output_type": "execute_result"
    },
    {
     "data": {
      "image/png": "[encoded data removed]",
      "text/plain": [
       "<Figure size 720x504 with 2 Axes>"
      ]
     },
     "metadata": {
      "needs_background": "light"
     },
     "output_type": "display_data"
    }
   ],
   "source": [
    "import seaborn as sn\n",
    "import pandas as pd\n",
    "import matplotlib.pyplot as plt\n",
    "array = confusion_matrix\n",
    "# df_cm = pd.DataFrame(array, index = [i for i in names],\n",
    "#               columns = [i for i in names])\n",
    "df_cm = pd.DataFrame(array)\n",
    "df_norm_col=(df_cm-df_cm.mean())/df_cm.std()\n",
    "#df_norm_col=df_cm-df_cm.mean()\n",
    "plt.figure(figsize = (10,7))\n",
    "sn.heatmap(df_norm_col, annot=True,cmap='viridis')"
   ]
  },
  {
   "cell_type": "code",
   "execution_count": null,
   "metadata": {},
   "outputs": [],
   "source": [
    "\n"
   ]
  },
  {
   "cell_type": "code",
   "execution_count": null,
   "metadata": {},
   "outputs": [],
   "source": []
  },
  {
   "cell_type": "code",
   "execution_count": null,
   "metadata": {},
   "outputs": [],
   "source": []
  },
  {
   "cell_type": "code",
   "execution_count": null,
   "metadata": {},
   "outputs": [],
   "source": []
  }
 ],
 "metadata": {
  "kernelspec": {
   "display_name": "Python 3",
   "language": "python",
   "name": "python3"
  },
  "language_info": {
   "codemirror_mode": {
    "name": "ipython",
    "version": 3
   },
   "file_extension": ".py",
   "mimetype": "text/x-python",
   "name": "python",
   "nbconvert_exporter": "python",
   "pygments_lexer": "ipython3",
   "version": "3.8.5"
  }
 },
 "nbformat": 4,
 "nbformat_minor": 2
}
